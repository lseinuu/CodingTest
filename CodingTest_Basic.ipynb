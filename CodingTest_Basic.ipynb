{
 "cells": [
  {
   "cell_type": "code",
   "execution_count": 1,
   "metadata": {},
   "outputs": [
    {
     "name": "stdout",
     "output_type": "stream",
     "text": [
      "time:  0.0\n"
     ]
    }
   ],
   "source": [
    "## 수행 시간 측정 소스코드 예제 ##\n",
    "\n",
    "import time\n",
    "\n",
    "start_time = time.time() # 측정 시작\n",
    "\n",
    "end_time = time.time() # 측정 종료\n",
    "\n",
    "print(\"time: \", end_time - start_time) # 수행 시간 출력"
   ]
  },
  {
   "cell_type": "code",
   "execution_count": 2,
   "metadata": {},
   "outputs": [
    {
     "name": "stdout",
     "output_type": "stream",
     "text": [
      "1000\n",
      "<class 'int'>\n",
      "-7\n",
      "0\n",
      "5\n"
     ]
    }
   ],
   "source": [
    "## 정수형 ##\n",
    "\n",
    "# 양의 정수\n",
    "a = 1000\n",
    "print(a)\n",
    "print(type(a))\n",
    "\n",
    "# 음의 정수\n",
    "a = -7\n",
    "print(a)\n",
    "\n",
    "# 0\n",
    "a = 0\n",
    "print(a)\n",
    "\n",
    "a = a + 5\n",
    "print(a)"
   ]
  },
  {
   "cell_type": "code",
   "execution_count": 3,
   "metadata": {},
   "outputs": [
    {
     "name": "stdout",
     "output_type": "stream",
     "text": [
      "157.93\n",
      "-1837.2\n",
      "5.0\n",
      "-0.7\n"
     ]
    }
   ],
   "source": [
    "## 실수형 ##\n",
    "\n",
    "# 양의 실수\n",
    "a = 157.93\n",
    "print(a)\n",
    "\n",
    "# 음의 실수\n",
    "a = -1837.2\n",
    "print(a)\n",
    "\n",
    "# 소수부가 0일 때 0을 생략\n",
    "a = 5.\n",
    "print(a)\n",
    "\n",
    "# 정수부가 0일 때 0을 생략\n",
    "a = -.7\n",
    "print(a)"
   ]
  },
  {
   "cell_type": "code",
   "execution_count": 4,
   "metadata": {},
   "outputs": [
    {
     "name": "stdout",
     "output_type": "stream",
     "text": [
      "1000000000.0\n",
      "752.5\n",
      "3.954\n"
     ]
    }
   ],
   "source": [
    "## 지수 표현 방식 ##\n",
    "\n",
    "# 1,000,000,000의 지수 표현 방식\n",
    "a = 1e9   #(1x10의9승)\n",
    "print(a)\n",
    "\n",
    "# 752.5\n",
    "a = 75.25e1  #(75.25x10의1승)\n",
    "print(a)\n",
    "\n",
    "# 3.954\n",
    "a = 3954e-3  #(3954x10의-3승)\n",
    "print(a)"
   ]
  },
  {
   "cell_type": "code",
   "execution_count": 5,
   "metadata": {},
   "outputs": [
    {
     "name": "stdout",
     "output_type": "stream",
     "text": [
      "0.8999999999999999\n",
      "False\n",
      "0.9\n",
      "True\n"
     ]
    }
   ],
   "source": [
    "## 실수형 더 알아보기 ##\n",
    "\n",
    "#10진수 체계에서는 0.3과 0.6을 더한 값이 0.9로 정확히 떨어지지만, 2진수에서는 0.9를 정확히 표현할 수 있는 방법이 없다.\n",
    "#컴퓨터는 최대한 0.9와 가깝게 표현하지만, 미세한 오차가 발생하게 된다.\n",
    "\n",
    "a = 0.3 + 0.6\n",
    "print(a)\n",
    "\n",
    "if a == 0.9 :\n",
    "    print(True)\n",
    "else :\n",
    "    print(False)\n",
    "    \n",
    "\n",
    "# round() 함수\n",
    "a = 0.3 + 0.6\n",
    "print(round(a, 4))\n",
    "\n",
    "if round(a, 4) == 0.9 :\n",
    "    print(True)\n",
    "else :\n",
    "    print(False)"
   ]
  },
  {
   "cell_type": "code",
   "execution_count": 14,
   "metadata": {},
   "outputs": [
    {
     "name": "stdout",
     "output_type": "stream",
     "text": [
      "4\n",
      "6\n",
      "3.5\n",
      "3.5\n",
      "10.0\n"
     ]
    }
   ],
   "source": [
    "#round()함수 \n",
    "#round(숫자, 반올림 할 자릿수), 자릿수를 지정하지 않으면 기본적으로 일의 자리까지 반올림\n",
    "#만일 반올림하는 자리의 바로 뒷 자리의 숫자가 5라면, 앞의 자리가 짝수인지 홀수인지를 기준으로 반올림 결과를 결정하게 된다.\n",
    "\n",
    "a = round(5.5) #홀수이면 반올림, 6\n",
    "print(a)\n",
    "b = round(6.5) #짝수이면 반올림X, 6\n",
    "print(b)\n",
    "\n",
    "c = round(3.45, 1) #소숫점 첫째자리까지, 3.5\n",
    "print(c)\n",
    "d = round(3.55, 1) #소숫점 첫째자리까지, 3.5 ?\n",
    "print(d)\n",
    "\n",
    "e = round(12.8, -1) #십의 자리까지, 10.0\n",
    "print(e)"
   ]
  },
  {
   "cell_type": "code",
   "execution_count": 15,
   "metadata": {},
   "outputs": [
    {
     "name": "stdout",
     "output_type": "stream",
     "text": [
      "2.3333333333333335\n",
      "1\n",
      "2\n",
      "343\n",
      "2.6457513110645907\n"
     ]
    }
   ],
   "source": [
    "## 수 자료형의 연산 ##\n",
    "\n",
    "a = 7\n",
    "b = 3\n",
    "\n",
    "# 나누기 \n",
    "print(a / b) #파이썬에서 나누기 연산자는 나눠진 결과를 실수형으로 반환한다. \n",
    "\n",
    "# 나머지\n",
    "print(a % b)\n",
    "\n",
    "# 몫★\n",
    "print(a // b)\n",
    "\n",
    "# 거듭 제곱\n",
    "print(a ** b)\n",
    "\n",
    "# 제곱근\n",
    "print(a ** 0.5)"
   ]
  },
  {
   "cell_type": "code",
   "execution_count": 16,
   "metadata": {},
   "outputs": [
    {
     "name": "stdout",
     "output_type": "stream",
     "text": [
      "[1, 2, 3, 4, 5, 6, 7, 8, 9]\n",
      "4\n",
      "[0, 0, 0, 0, 0, 0, 0, 0, 0, 0]\n",
      "[7, 3, 2, 5, 9]\n",
      "[7, 3, 2, 5, 4]\n"
     ]
    }
   ],
   "source": [
    "## 리스트 초기화 ##\n",
    "\n",
    "# 직접 데이터를 넣어 초기화\n",
    "a = [1, 2, 3, 4, 5, 6, 7, 8, 9]\n",
    "print(a)\n",
    "\n",
    "# 네 번째 원소만 출력\n",
    "print(a[3]) #인덱스는 0부터 시작하기 때문에\n",
    "\n",
    "# 크기가 N이고, 모든 값이 0인 1차원 리스트 초기화★\n",
    "n = 10\n",
    "a = [0] * n \n",
    "print(a)\n",
    "\n",
    "a = [7, 3, 2, 5, 9]\n",
    "#    0  1  2  3  4 번째\n",
    "print(a)\n",
    "a[4] = 4 #변경\n",
    "print(a)"
   ]
  },
  {
   "cell_type": "code",
   "execution_count": 19,
   "metadata": {
    "scrolled": true
   },
   "outputs": [
    {
     "name": "stdout",
     "output_type": "stream",
     "text": [
      "8\n",
      "9\n",
      "7\n",
      "[1, 2, 3, 7, 5, 6, 7, 8, 9]\n",
      "4\n",
      "[2, 3, 4]\n"
     ]
    }
   ],
   "source": [
    "## 리스트의 인덱싱과 슬라이싱 ##\n",
    "\n",
    "a = [1, 2, 3, 4, 5, 6, 7, 8, 9]\n",
    "\n",
    "# 여덟 번째 원소만 출력\n",
    "print(a[7])\n",
    "\n",
    "# 뒤에서 첫 번째 원소 출력★ #뒤에서는 1부터 시작\n",
    "print(a[-1])\n",
    "\n",
    "# 뒤에서 세 번째 원소 출력★\n",
    "print(a[-3]) #7\n",
    "\n",
    "#네 번째 원소 값 변경\n",
    "a[3] = 7\n",
    "print(a)\n",
    "\n",
    "\n",
    "a = [1, 2, 3, 4, 5, 6, 7, 8, 9]\n",
    "\n",
    "# 네 번째 원소만 출력\n",
    "print(a[3])\n",
    "\n",
    "# 두 번째 원소부터 네 번째 원소까지\n",
    "print(a[1 : 4])"
   ]
  },
  {
   "cell_type": "code",
   "execution_count": 22,
   "metadata": {},
   "outputs": [
    {
     "name": "stdout",
     "output_type": "stream",
     "text": [
      "[0, 1, 2, 3, 4, 5, 6, 7, 8, 9]\n",
      "[1, 3, 5, 7, 9, 11, 13, 15, 17, 19]\n",
      "[1, 4, 9, 16, 25, 36, 49, 64, 81]\n",
      "[[0, 0, 0], [0, 0, 0], [0, 0, 0], [0, 0, 0]]\n",
      "[[0, 0, 0], [0, 5, 0], [0, 0, 0], [0, 0, 0]]\n",
      "[[0, 0, 0], [0, 0, 0], [0, 0, 0], [0, 0, 0]]\n",
      "[[0, 5, 0], [0, 5, 0], [0, 5, 0], [0, 5, 0]]\n"
     ]
    }
   ],
   "source": [
    "## 리스트 컴프리헨션 ##\n",
    "\n",
    "# 0부터 9까지의 수를 포함하는 리스트★\n",
    "array = [i for i in range(10)]\n",
    "print(array)\n",
    "\n",
    "# 0부터 19까지의 수 중에서 홀수만 포함하는 리스트\n",
    "array = [i for i in range(20) if i % 2 == 1]\n",
    "print(array)\n",
    "\n",
    "# 1부터 9까지의 수들의 제곱 값을 포함하는 리스트\n",
    "array = [i * i for i in range(1, 10)]\n",
    "print(array)\n",
    "\n",
    "\n",
    "## 리스트 컴프리헨션 (좋은 예시) ##\n",
    "# N X M 크기의 2차원 리스트 초기화\n",
    "n = 4\n",
    "m = 3\n",
    "array = [[0] * m for _ in range(n)] #★\n",
    "print(array) #[[0, 0, 0], [0, 0, 0], [0, 0, 0], [0, 0, 0]]\n",
    "\n",
    "\n",
    "## 리스트 컴프리헨션 (잘못된 예시) ##\n",
    "# N X M 크기의 2차원 리스트 초기화 (잘못된 방법)\n",
    "n = 4\n",
    "m = 3\n",
    "array = [[0] * m] * n #내부적인 리스트가 모두 같은 객체로써 인식될 수 있다.\n",
    "print(array) #[[0, 0, 0], [0, 0, 0], [0, 0, 0], [0, 0, 0]]\n",
    "\n",
    "#특정한 위치를 바꾸고자 할 때를 보면 1인덱스의 값이 보두 바뀐 걸 알 수 있다. \n",
    "array[1][1] = 5 #올바른 답 [[0, 0, 0], [0, 5, 0], [0, 0, 0], [0, 0, 0]]\n",
    "print(array) #[[0, 5, 0], [0, 5, 0], [0, 5, 0], [0, 5, 0]]으로 나온다."
   ]
  },
  {
   "cell_type": "code",
   "execution_count": 24,
   "metadata": {},
   "outputs": [
    {
     "name": "stdout",
     "output_type": "stream",
     "text": [
      "기본 리스트 :  [1, 4, 3]\n",
      "삽입 :  [1, 4, 3, 2]\n",
      "오름차순 정렬 :  [1, 2, 3, 4]\n",
      "내림차순 정렬 :  [4, 3, 2, 1]\n",
      "원소 뒤집기 :  [1, 2, 3, 4]\n",
      "인덱스 2에 3 추가 :  [1, 2, 3, 3, 4]\n",
      "값이 3인 데이터 개수 :  2\n",
      "값이 1인 데이터 삭제 :  [2, 3, 3, 4]\n",
      "[1, 2, 4]\n"
     ]
    }
   ],
   "source": [
    "## 리스트 관련 기타 메소드 ##\n",
    "\n",
    "a = [1, 4, 3]\n",
    "print(\"기본 리스트 : \", a)\n",
    "\n",
    "# 리스트에 원소 삽입\n",
    "a.append(2) #리스트의 맨 마지막에 덧붙여짐★\n",
    "print(\"삽입 : \", a)\n",
    "\n",
    "# 오름차순 정렬\n",
    "a.sort()\n",
    "print(\"오름차순 정렬 : \", a)\n",
    "\n",
    "# 내림차순 정렬\n",
    "a.sort(reverse=True)\n",
    "print(\"내림차순 정렬 : \", a)\n",
    "\n",
    "\n",
    "a = [4, 3, 2, 1]\n",
    "\n",
    "# 리스트 원소 뒤집기\n",
    "a.reverse()\n",
    "print(\"원소 뒤집기 : \", a)  #[1, 2, 3, 4]\n",
    "\n",
    "# 특정 인덱스에 데이터 추가★\n",
    "a.insert(2, 3)\n",
    "print(\"인덱스 2에 3 추가 : \", a) #[1, 2, 3, 3, 4]\n",
    "\n",
    "# 특정 값인 데이터 개수 세기\n",
    "print(\"값이 3인 데이터 개수 : \", a.count(3))\n",
    "\n",
    "# 특정 값 데이터 삭제★\n",
    "a.remove(1)\n",
    "print(\"값이 1인 데이터 삭제 : \", a)\n",
    "\n",
    "\n",
    "## 리스트에서 특정 값을 가지는 원소를 모두 제거하기 ##\n",
    "\n",
    "a = [1, 2, 3, 4, 5, 5, 5]\n",
    "remove_set = {3, 5} # 집합 자료형\n",
    "\n",
    "# remove_set에 포함되지 않은 값만을 저장\n",
    "result = [i for i in a if i not in remove_set] #★\n",
    "print(result)  #[1, 2, 4]"
   ]
  },
  {
   "cell_type": "code",
   "execution_count": 25,
   "metadata": {},
   "outputs": [
    {
     "name": "stdout",
     "output_type": "stream",
     "text": [
      "Hello World\n",
      "Don't you know \"Python\"?\n",
      "Hello World\n",
      "StringStringString\n",
      "CD\n"
     ]
    }
   ],
   "source": [
    "## 문자열 자료형 ##\n",
    "\n",
    "data = 'Hello World'\n",
    "print(data)\n",
    "\n",
    "data = \"Don't you know \\\"Python\\\"?\" #따옴표를 쓰고 싶으면 따옴표 앞에 \\를 써서 사용한다.\n",
    "print(data)\n",
    "\n",
    "\n",
    "## 문자열 연산 ##\n",
    "\n",
    "a = \"Hello\"\n",
    "b = \"World\"\n",
    "print(a + \" \" + b)\n",
    "\n",
    "a = \"String\"\n",
    "print(a * 3)\n",
    "\n",
    "a = \"ABCDEF\"\n",
    "print(a[2 : 4])\n",
    "# a[2] = 'a' -> TypeError  #문자열은 특정 인덱스의 값을 변경할 수 없다.★\n",
    "# a[2] -> 'C'  #문자열을 확인할 수는 있지만 "
   ]
  },
  {
   "cell_type": "code",
   "execution_count": 30,
   "metadata": {},
   "outputs": [
    {
     "name": "stdout",
     "output_type": "stream",
     "text": [
      "4\n",
      "(2, 3, 4)\n"
     ]
    }
   ],
   "source": [
    "## 튜플 사용 예제 ##\n",
    "\n",
    "a = (1, 2, 3, 4, 5, 6, 7, 8, 9)\n",
    "\n",
    "# 네 번째 원소만 출력 #튜플도 리스트와 마찬가지로 인덱스는 0부터 시작한다.\n",
    "print(a[3])\n",
    "\n",
    "# 두 번째 원소부터 네 번째 원소까지\n",
    "print(a[1 : 4])\n",
    "\n",
    "\n",
    "## 튜플 사용 예제(오류가 발생하는 예제) ##\n",
    "# a[2] = 7 -> TypeError 튜플은 변경할 수 없는 객체이다.★"
   ]
  },
  {
   "cell_type": "code",
   "execution_count": 35,
   "metadata": {},
   "outputs": [
    {
     "name": "stdout",
     "output_type": "stream",
     "text": [
      "{'사과': 'Apple', '바나나': 'Banana', '코코넛': 'Coconut'}\n",
      "'사과'를 키로 가지는 데이터가 존재합니다.\n",
      "dict_keys(['사과', '바나나', '코코넛'])\n",
      "dict_values(['Apple', 'Banana', 'Coconut'])\n",
      "Apple\n",
      "Banana\n",
      "Coconut\n",
      "{'홍길동': 97, '이순신': 98}\n",
      "{'홍길동': 97, '이순신': 98}\n",
      "98\n",
      "dict_keys(['홍길동', '이순신'])\n",
      "['홍길동', '이순신']\n"
     ]
    }
   ],
   "source": [
    "## 사전 자료형 ##\n",
    "\n",
    "data = dict()  #딕셔너리는 key에 대응하는 value를 가지는 자료형이다.\n",
    "\n",
    "#특정한 값을 할당★\n",
    "data['사과'] = 'Apple'\n",
    "data['바나나'] = 'Banana'\n",
    "data['코코넛'] = 'Coconut'\n",
    "\n",
    "print(data)  #{'사과': 'Apple', '바나나': 'Banana', '코코넛': 'Coconut'}\n",
    "\n",
    "if '사과' in data :\n",
    "    print(\"'사과'를 키로 가지는 데이터가 존재합니다.\")\n",
    "\n",
    "\n",
    "## 사전 자료형 관련 함수 ##\n",
    "\n",
    "# 키 데이터만 담은 리스트\n",
    "key_list = data.keys()\n",
    "\n",
    "# 값 데이터만 담은 리스트\n",
    "value_list = data.values()\n",
    "\n",
    "print(key_list)    #dict_keys(['사과', '바나나', '코코넛'])\n",
    "print(value_list)  #dict_values(['Apple', 'Banana', 'Coconut'])\n",
    "\n",
    "\n",
    "# 각 키에 따른 값을 하나씩 출력\n",
    "for key in key_list :\n",
    "    print(data[key])  \n",
    "\n",
    "#Apple\n",
    "#Banana\n",
    "#Coconut\n",
    "\n",
    "\n",
    "#예시1\n",
    "a = dict()        #초기화 방법 1 ★\n",
    "a['홍길동'] = 97\n",
    "a['이순신'] = 98\n",
    "\n",
    "print(a)\n",
    "\n",
    "\n",
    "b = {             #초기화 방법 2 ★\n",
    "  '홍길동' : 97,\n",
    "  '이순신' : 98\n",
    "}\n",
    "\n",
    "print(b)\n",
    "print(b['이순신']) #특정한 key에 대한 값 출력\n",
    "\n",
    "\n",
    "#예시2\n",
    "key_list = b.keys() #key 함수 호출★\n",
    "print(key_list)  #dict_keys(['홍길동', '이순신']) ★\n",
    "# ↗ key함수는 dict_keys라는 하나의 객체로써 반환되기 때문에 ↙list형태로 형 반환 시켜줘야 한다.\n",
    "key_list = list(b.keys())\n",
    "print(key_list)  #['홍길동', '이순신']"
   ]
  },
  {
   "cell_type": "code",
   "execution_count": 40,
   "metadata": {
    "scrolled": true
   },
   "outputs": [
    {
     "name": "stdout",
     "output_type": "stream",
     "text": [
      "{1, 2, 3, 4, 5}\n",
      "{1, 2, 3, 4, 5}\n",
      "{1, 2, 3, 4, 5, 6, 7}\n",
      "{3, 4, 5}\n",
      "{1, 2}\n",
      "{1, 2, 3}\n",
      "{1, 2, 3, 4}\n",
      "{1, 2, 3, 4, 5, 6}\n",
      "{1, 2, 4, 5, 6}\n"
     ]
    }
   ],
   "source": [
    "## 집합 자료형 ##\n",
    "\n",
    "# 집합 자료형 초기화 방법 1\n",
    "data = set([1, 1, 2, 3, 4, 4, 5]) #set 함수로 감싸줘 초기화한다.★\n",
    "print(data)  #{1, 2, 3, 4, 5}  #중복을 허용하지 않는다.\n",
    "\n",
    "# 집합 자료형 초기화 방법 2\n",
    "data = {1, 1, 2, 3, 4, 4, 5}\n",
    "print(data)  #{1, 2, 3, 4, 5}  #data의 자료형은 집합 자료형 초기화 방법1을 통해 이미 set형이다.\n",
    "\n",
    "\n",
    "## 집합 자료형의 연산 ##\n",
    "\n",
    "a = set([1, 2, 3, 4, 5])\n",
    "b = set([3, 4, 5, 6, 7])\n",
    "\n",
    "# 합집합\n",
    "print(a | b)  #{1, 2, 3, 4, 5, 6, 7}\n",
    "\n",
    "# 교집합\n",
    "print(a & b)  #{3, 4, 5}\n",
    "\n",
    "#차집합\n",
    "print(a - b)  #{1, 2}\n",
    "\n",
    "\n",
    "## 집합 자료형 관련 함수 ##\n",
    "\n",
    "data = set([1, 2, 3])\n",
    "print(data)\n",
    "\n",
    "# 새로운 원소 추가\n",
    "data.add(4) #add는 집합에 원소 하나를 추가한다.\n",
    "print(data)  #{1, 2, 3, 4}\n",
    "\n",
    "# 새로운 원소 여러 개 추가 => update()함수는 집합에서 여러 원소를 추가한다.\n",
    "data.update([5, 6])\n",
    "print(data)  #{1, 2, 3, 4, 5, 6}\n",
    "\n",
    "# 특정한 값을 갖는 원소 삭제\n",
    "data.remove(3)\n",
    "print(data)  #{1, 2, 4, 5, 6}"
   ]
  },
  {
   "cell_type": "code",
   "execution_count": 1,
   "metadata": {},
   "outputs": [
    {
     "name": "stdout",
     "output_type": "stream",
     "text": [
      "5\n",
      "32 85 94 43 78\n",
      "[94, 85, 78, 43, 32]\n",
      "1 2 3\n",
      "1 2 3\n",
      "\n"
     ]
    }
   ],
   "source": [
    "## 입력을 위한 전형적인 소스코드 1 ##\n",
    "\n",
    "# 데이터의 개수 입력\n",
    "n = int(input())\n",
    "\n",
    "# 각 데이터를 공백을 기준으로 구분하여 입력★\n",
    "data = list(map(int, input().split()))  #[32, 85, 94, 43, 78]\n",
    "#리스트에 각각 정수형으로 데이터가 들어가진다.\n",
    "\n",
    "data.sort(reverse=True)\n",
    "print(data)  #[94, 85, 78, 43, 32]\n",
    "\n",
    "\n",
    "## 입력을 위한 전형적인 소스코드 2 ##\n",
    "\n",
    "# n, m, k를 공백을 기준으로 구분하여 입력 #반드시 데이터가 3개만 들어온다고 하면\n",
    "n, m, k = map(int, input().split())\n",
    "print(n, m, k)\n",
    "\n",
    "\n",
    "## 빠르게 입력 받기 ##\n",
    "\n",
    "import sys\n",
    "\n",
    "data = sys.stdin.readline().rstrip() # 문자열 입력 받기\n",
    "print(data)"
   ]
  },
  {
   "cell_type": "code",
   "execution_count": 3,
   "metadata": {},
   "outputs": [
    {
     "name": "stdout",
     "output_type": "stream",
     "text": [
      "\n"
     ]
    },
    {
     "ename": "ValueError",
     "evalue": "invalid literal for int() with base 10: ''",
     "output_type": "error",
     "traceback": [
      "\u001b[1;31m---------------------------------------------------------------------------\u001b[0m",
      "\u001b[1;31mValueError\u001b[0m                                Traceback (most recent call last)",
      "\u001b[1;32m<ipython-input-3-3d1145ac40cb>\u001b[0m in \u001b[0;36m<module>\u001b[1;34m\u001b[0m\n\u001b[0;32m     11\u001b[0m \u001b[1;33m\u001b[0m\u001b[0m\n\u001b[0;32m     12\u001b[0m \u001b[1;32mimport\u001b[0m \u001b[0msys\u001b[0m\u001b[1;33m\u001b[0m\u001b[1;33m\u001b[0m\u001b[0m\n\u001b[1;32m---> 13\u001b[1;33m \u001b[0mnum\u001b[0m \u001b[1;33m=\u001b[0m \u001b[0mint\u001b[0m\u001b[1;33m(\u001b[0m\u001b[0msys\u001b[0m\u001b[1;33m.\u001b[0m\u001b[0mstdin\u001b[0m\u001b[1;33m.\u001b[0m\u001b[0mreadline\u001b[0m\u001b[1;33m(\u001b[0m\u001b[1;33m)\u001b[0m\u001b[1;33m)\u001b[0m\u001b[1;33m\u001b[0m\u001b[1;33m\u001b[0m\u001b[0m\n\u001b[0m\u001b[0;32m     14\u001b[0m \u001b[0mprint\u001b[0m\u001b[1;33m(\u001b[0m\u001b[0mnum\u001b[0m\u001b[1;33m)\u001b[0m\u001b[1;33m\u001b[0m\u001b[1;33m\u001b[0m\u001b[0m\n\u001b[0;32m     15\u001b[0m \u001b[1;33m\u001b[0m\u001b[0m\n",
      "\u001b[1;31mValueError\u001b[0m: invalid literal for int() with base 10: ''"
     ]
    }
   ],
   "source": [
    "# 한 줄에 '한 개의 문자열'을 입력받을 때\n",
    "\n",
    "import sys\n",
    "s = sys.stdin.readline().rstrip()\n",
    "print(s) #readline()은 한 줄 단위로 입력받기 때문에,'\\n'(개행문자)가 같이 입력받아진다.\n",
    "         #따라서 rstrip()으로 개행문자를 제거해준다.\n",
    "\n",
    "\n",
    "    \n",
    "# 한 줄에 '한 개의 정수'를 입력받을 때\n",
    "\n",
    "import sys\n",
    "num = int(sys.stdin.readline())\n",
    "print(num)\n",
    "\n",
    "\n",
    "# '정해진 개수의 문자열'을 '한 줄에 띄어씌기로 나누어' 입력받을 때\n",
    "\n",
    "import sys\n",
    "a, b, c = sys.stdin.readline().split()\n",
    "print(a, b, c)\n",
    "\n",
    "\n",
    "# '정해진 개수의 정수'를 '한 줄에 띄어쓰기로 나누어' 입력받을 때\n",
    "import sys\n",
    "i, j, k = map(int, sys.stdin.readline().split()) #★\n",
    "print(i, j, k)\n",
    "\n",
    "\n",
    "# '임의의 개수의 문자열'을 '한 줄에 띄어쓰기로 나누어' 입력받아 '리스트에 저장'할 때\n",
    "\n",
    "import sys\n",
    "data = list(sys.stdin.readline().split())\n",
    "print(data)\n",
    "\n",
    "\n",
    "# '임의의 개수의 정수'를 '한 줄에 띄어쓰기로 나누어' 입력받아 '리스트에 저장'할 때\n",
    "\n",
    "import sys\n",
    "data_num = list(map(int, sys.stdin.readline().split()))\n",
    "print(data_num)\n",
    "\n",
    "\n",
    "# '문자열 n줄'을 입력받아 '리스트에 저장'할 때\n",
    "\n",
    "import sys\n",
    "n = int(sys.stdin.readline())\n",
    "data = [sys.stdin.readline().strip() for _ in range(n)]\n",
    "print(data)\n",
    "\n",
    "\n",
    "# '정수 n줄'을 입력받아 '2차원 리스트에 저장'할 때\n",
    "\n",
    "import sys\n",
    "n = int(sys.stdin.readline())  #3\n",
    "data = []\n",
    "for _ in range(n):\n",
    "    data.append(list(map(int, sys.stdin.readline().split())))  #1 2 3\n",
    "                                                               #4 5 6\n",
    "                                                               #7 8 9\n",
    "print(data)  #[[1, 2, 3], [4, 5, 6], [7, 8, 9]]\n",
    "\n",
    "\n",
    "import sys\n",
    "n = int(sys.stdin.readline())\n",
    "data = [list(map(int, sys.stdin.readline().split())) for _ in range(n)]\n",
    "print(data)\n",
    "\n",
    "\n",
    "import sys\n",
    "data = [list(map(int, sys.stdin.readline().split())) for _ in range(int(sys.stdin.readline()))]\n",
    "print(data)\n"
   ]
  },
  {
   "cell_type": "code",
   "execution_count": 7,
   "metadata": {
    "scrolled": true
   },
   "outputs": [
    {
     "name": "stdout",
     "output_type": "stream",
     "text": [
      "1 2\n",
      "7 8 정답은 7입니다.\n",
      "정답은 7입니다.\n"
     ]
    }
   ],
   "source": [
    "## 출력을 위한 전형적인 소스코드 ##\n",
    "\n",
    "# 출력할 변수들\n",
    "a = 1\n",
    "b = 2\n",
    "print(a, b)\n",
    "print(7, end=\" \")\n",
    "print(8, end=\" \")\n",
    "\n",
    "# 출력할 변수\n",
    "answer = 7\n",
    "print(\"정답은 \" + str(answer) + \"입니다.\")  #7 8 정답은 7입니다.\n",
    "#기본적으로 파이썬에서는 ★문자열과 정수형에 대해서 직접적인 연산을 수행할 수 없기 때문에,\n",
    "#정수형 데이터를 문자열로 str()을 통해 바꿔준 다음에 결과를 출력한다.\n",
    "\n",
    "\n",
    "## f-string 예제 ##\n",
    "answer = 7\n",
    "print(f\"정답은 {answer}입니다.\")"
   ]
  },
  {
   "cell_type": "code",
   "execution_count": 8,
   "metadata": {},
   "outputs": [
    {
     "name": "stdout",
     "output_type": "stream",
     "text": [
      "x >= 10\n",
      "x >= 0\n",
      "성적이 70점 이상입니다.\n",
      "프로그램을 종료합니다.\n"
     ]
    }
   ],
   "source": [
    "## 조건문 예제 ##\n",
    "\n",
    "x = 15\n",
    "\n",
    "if x >= 10:\n",
    "    print(\"x >= 10\")\n",
    "if x >= 0:\n",
    "    print(\"x >= 0\")\n",
    "if x >= 30:\n",
    "    print(\"x >= 30\")\n",
    "\n",
    "#결과\n",
    "#x >= 10\n",
    "#x >= 0\n",
    "\n",
    "\n",
    "## 들여쓰기 ##\n",
    "\n",
    "score = 85\n",
    "\n",
    "if score >= 70:\n",
    "    print('성적이 70점 이상입니다.')\n",
    "    if score >= 90:\n",
    "        print('우수한 성적입니다.')\n",
    "else:\n",
    "    print('성적이 70점 미만입니다.')\n",
    "    print('조금 더 분발하세요.')\n",
    "\n",
    "print('프로그램을 종료합니다.')"
   ]
  },
  {
   "cell_type": "code",
   "execution_count": 10,
   "metadata": {},
   "outputs": [
    {
     "name": "stdout",
     "output_type": "stream",
     "text": [
      "a >= 0\n",
      "학점: B\n"
     ]
    }
   ],
   "source": [
    "## 조건문의 기본 형태 ##\n",
    "\n",
    "a = 5\n",
    "\n",
    "if a >= 0:\n",
    "    print(\"a >= 0\")\n",
    "elif a >= -10:\n",
    "    print(\"0 > a >= -10\")\n",
    "else:\n",
    "    print(\"-10 > a\")\n",
    "\n",
    "#결과\n",
    "#a >= 0\n",
    "\n",
    "\n",
    "## 성적 구간에 따른 학점 출력 예제 ##\n",
    "\n",
    "score = 85\n",
    "\n",
    "if score >= 90:\n",
    "    print(\"학점: A\")\n",
    "elif score >= 80:\n",
    "    print(\"학점: B\")\n",
    "elif score >= 70:\n",
    "    print(\"학점: C\")\n",
    "else:\n",
    "    print(\"학점: F\")"
   ]
  },
  {
   "cell_type": "code",
   "execution_count": 11,
   "metadata": {},
   "outputs": [
    {
     "name": "stdout",
     "output_type": "stream",
     "text": [
      "Yes\n",
      "Yes\n",
      "Success\n"
     ]
    }
   ],
   "source": [
    "## 논리 연산자 ##\n",
    "\n",
    "if True or False:\n",
    "    print(\"Yes\")\n",
    "# 결과 -> Yes 출력  #1이니까\n",
    "\n",
    "if True and False:\n",
    "    print(\"Yes\")\n",
    "# 결과 -> 아무것도 출력되지 않는다.  #0이므로\n",
    "\n",
    "a = 15\n",
    "if a <= 20 and a >= 0:\n",
    "    print(\"Yes\")\n",
    "\n",
    "    \n",
    "## 파이썬의 pass 키워드 ##\n",
    "\n",
    "a = 50\n",
    "if a >= 30:\n",
    "    pass # 나중에 작성할 소스코드\n",
    "else:\n",
    "    print(\"a < 30\")\n",
    "\n",
    "\n",
    "## 조건부 표현식 ## ★\n",
    "\n",
    "score = 85\n",
    "result = \"Success\" if score >= 80 else \"Fail\"\n",
    "\n",
    "print(result)"
   ]
  },
  {
   "cell_type": "code",
   "execution_count": 16,
   "metadata": {},
   "outputs": [
    {
     "name": "stdout",
     "output_type": "stream",
     "text": [
      "45\n",
      "25\n",
      "9\n",
      "8\n",
      "7\n",
      "6\n",
      "5\n"
     ]
    }
   ],
   "source": [
    "## 1부터 9까지 모든 정수의 합 구하기 예제 (while문) ##\n",
    "\n",
    "i = 1\n",
    "result = 0\n",
    "\n",
    "# i가 9보다 작거나 같을 때 아래 코드를 반복적으로 실행\n",
    "while i <= 9:\n",
    "    result += i\n",
    "    i += 1\n",
    "print(result)  #45\n",
    "\n",
    "\n",
    "## 1부터 9까지 홀수의 합 구하기 예제 (while문) ##\n",
    "\n",
    "i = 1\n",
    "result = 0\n",
    "\n",
    "# i가 9보다 작거나 같을 때 아래 코드를 반복적으로 실행\n",
    "while i <= 9:\n",
    "    if i % 2 == 1:\n",
    "        result += i\n",
    "    i += 1\n",
    "print(result)\n",
    "\n",
    "\n",
    "## 반복문에서의 무한 루프 ##\n",
    "\n",
    "# x = 10\n",
    "\n",
    "# while x > 5:\n",
    "    # print(x)   #무한으로 10이 출력된다.\n",
    "    \n",
    "    \n",
    "## 반복문 : for문 ##\n",
    "\n",
    "array = [9, 8, 7, 6, 5]\n",
    "# array = (9, 8, 7, 6, 5)로 튜플도 반복을 위한 변수로 사용할 수 있다.★\n",
    "\n",
    "for x in array:\n",
    "    print(x)"
   ]
  },
  {
   "cell_type": "code",
   "execution_count": 17,
   "metadata": {},
   "outputs": [
    {
     "name": "stdout",
     "output_type": "stream",
     "text": [
      "10\n",
      "-4\n"
     ]
    }
   ],
   "source": [
    "## 더하기 함수 예시 ##\n",
    "\n",
    "def add(a, b):\n",
    "    return a + b\n",
    "\n",
    "def subtract(a, b):\n",
    "    return a - b\n",
    "\n",
    "result = add(3, 7)\n",
    "print(result)\n",
    "\n",
    "result = subtract(3, 7)\n",
    "print(result)"
   ]
  },
  {
   "cell_type": "code",
   "execution_count": 18,
   "metadata": {},
   "outputs": [
    {
     "name": "stdout",
     "output_type": "stream",
     "text": [
      "11\n",
      "[1, 2, 3, 4, 5, 6]\n",
      "[3, 4, 5, 6]\n",
      "[1, 2, 3, 4, 5]\n"
     ]
    }
   ],
   "source": [
    "## global 키워드 ##\n",
    "\n",
    "a = 10\n",
    "\n",
    "def func():\n",
    "    global a  #a = 0을 쓰지 않고, 바깥쪽에 있는 a를 참조하고자 한다면 global써줘서 명시\n",
    "    a += 1 #a = 0을 써줘야 한다.\n",
    "    print(a)\n",
    "\n",
    "func()\n",
    "\n",
    "\n",
    "#전역 변수로 리스트가 선언 되어있을 때, 전역 변수로 선언된 리스트 객체의 내부 메소드를 호출하는 것은 오류없이 실행이 가능하다.\n",
    "\n",
    "array = [1, 2, 3, 4, 5]\n",
    "\n",
    "def func():\n",
    "    array.append(6)\n",
    "    print(array)\n",
    "\n",
    "func()\n",
    "\n",
    "\n",
    "#만약, 전역 변수와 지역 변수로 동일한 이름의 변수가 존재한다면 함수 안에서는 내부적으로 선언되어있는 이 함수를 우선적으로 처리하기 때문에 \n",
    "#결과가 함수 안에서 출력되는 array는 [3,4,5,6]이 나오고,\n",
    "#함수 바깥에서 array를 참조하게 되면 전역 변수로 선언되어 있는 array에 우선적으로 접근하는 것을 확인할 수 있다. [1,2,3,4,5]\n",
    "\n",
    "array = [1, 2, 3, 4, 5]\n",
    "\n",
    "def func():\n",
    "    array = [3, 4, 5]\n",
    "    array.append(6)\n",
    "    print(array)\n",
    "\n",
    "func()            #[3, 4, 5, 6]\n",
    "\n",
    "print(array)      #[1, 2, 3, 4, 5]"
   ]
  }
 ],
 "metadata": {
  "kernelspec": {
   "display_name": "Python [conda env:root] *",
   "language": "python",
   "name": "conda-root-py"
  },
  "language_info": {
   "codemirror_mode": {
    "name": "ipython",
    "version": 3
   },
   "file_extension": ".py",
   "mimetype": "text/x-python",
   "name": "python",
   "nbconvert_exporter": "python",
   "pygments_lexer": "ipython3",
   "version": "3.7.3"
  }
 },
 "nbformat": 4,
 "nbformat_minor": 2
}
